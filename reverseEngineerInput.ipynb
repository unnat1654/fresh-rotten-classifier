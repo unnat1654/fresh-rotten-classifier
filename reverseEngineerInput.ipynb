{
 "cells": [
  {
   "cell_type": "code",
   "execution_count": 3,
   "metadata": {},
   "outputs": [],
   "source": [
    "from cv2 import imdecode,INTER_AREA,IMREAD_COLOR,resize\n",
    "from base64 import b64decode\n",
    "from pickle import load\n",
    "from numpy import expand_dims,frombuffer,uint8\n",
    "from pandas import DataFrame\n",
    "\n",
    "cols=[]\n",
    "for i in range(3888):\n",
    "    cols.append(\"c\"+str(i))\n",
    "classifier=load(open(\"freshRottenClassifier.sav\",\"rb\"))\n",
    "\n",
    "def predictor(b64imageinp):\n",
    "    # convert input which image base 64 string to open cv image\n",
    "    encoded_data = b64imageinp.split(',')[1]\n",
    "    nparr = frombuffer(b64decode(encoded_data), uint8)\n",
    "    img = imdecode(nparr, IMREAD_COLOR)\n",
    "\n",
    "    #rescale image\n",
    "    img1=(resize(img,(36,36),interpolation=INTER_AREA).flatten())/255\n",
    "\n",
    "    #converting to dataframe to input to model\n",
    "    df = DataFrame(expand_dims(img1,0), columns=cols)\n",
    "    \n",
    "    #using predict on model\n",
    "    [ans]=classifier.predict(df)\n",
    "    return ans\n",
    "\n"
   ]
  },
  {
   "cell_type": "code",
   "execution_count": 4,
   "metadata": {},
   "outputs": [
    {
     "data": {
      "text/plain": [
       "1"
      ]
     },
     "execution_count": 4,
     "metadata": {},
     "output_type": "execute_result"
    }
   ],
   "source": [
    "predictor(\"data:image/jpeg;base64,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\")\n"
   ]
  },
  {
   "cell_type": "code",
   "execution_count": null,
   "metadata": {},
   "outputs": [],
   "source": []
  }
 ],
 "metadata": {
  "kernelspec": {
   "display_name": "base",
   "language": "python",
   "name": "python3"
  },
  "language_info": {
   "codemirror_mode": {
    "name": "ipython",
    "version": 3
   },
   "file_extension": ".py",
   "mimetype": "text/x-python",
   "name": "python",
   "nbconvert_exporter": "python",
   "pygments_lexer": "ipython3",
   "version": "3.11.5"
  }
 },
 "nbformat": 4,
 "nbformat_minor": 2
}
